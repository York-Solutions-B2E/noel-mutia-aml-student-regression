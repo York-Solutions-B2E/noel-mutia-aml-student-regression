{
 "cells": [
  {
   "cell_type": "code",
   "execution_count": 1,
   "metadata": {},
   "outputs": [],
   "source": [
    "from sqlalchemy import create_engine\n",
    "from urllib.parse import quote_plus\n",
    "import pandas as pd\n",
    "import csv\n",
    "\n",
    "csv_path = \"./docs/data.csv\"\n",
    "\n"
   ]
  },
  {
   "cell_type": "code",
   "execution_count": 9,
   "metadata": {},
   "outputs": [
    {
     "name": "stdout",
     "output_type": "stream",
     "text": [
      "['GP', 'M', 16, 'U', 'LE3', 'T', 4, 3, 'teacher', 'services', 'course', 'mother', 3, 2, 0, 'no', 'yes', 'no', 'yes', 'yes', 'yes', 'yes', 'no', 5, 4, 3, 1, 2, 1, 2, 15, 14, 15]\n"
     ]
    }
   ],
   "source": [
    "\n",
    "def load_data_to_postgres_docker(csv_path, student_grades_table, user, password, host='localhost', database_name='student_grades', port=5432 ):\n",
    "    # Load CSV data\n",
    "    data = pd.read_csv(csv_path, delimiter=';')\n",
    "\n",
    "    # Create engine with SQLAlchemy\n",
    "    password = quote_plus(password)\n",
    "    engine = create_engine(f'postgresql://{user}:{password}@{host}:{port}/{database_name}')\n",
    "\n",
    "    # Transfer data to database\n",
    "    data.to_sql(student_grades_table, engine, index=False, if_exists='replace')\n",
    "\n",
    "# Call the load_data_to_postgres_docker function\n",
    "# load_data_to_postgres_docker(csv_path, 'student_grades_table', 'leonphoenix21', 'vtlt123@dck', '172.18.0.3', 'student_grades')\n",
    "\n"
   ]
  },
  {
   "cell_type": "code",
   "execution_count": null,
   "metadata": {},
   "outputs": [],
   "source": [
    "\n",
    "def add_new_student_and_load(student_info, csv_path, table_name, database_name, user, password, host='localhost'):\n",
    "    # Add new student to CSV file\n",
    "    with open(csv_path, 'a', newline='', encoding='utf-8') as csvfile:\n",
    "        csv_writer = csv.writer(csvfile, delimiter=';')\n",
    "\n",
    "        # Use list comprehension to format the row\n",
    "        row = list(student_info.values())\n",
    "\n",
    "        print(row)\n",
    "        csv_writer.writerow(row)\n",
    "\n",
    "    # Load updated data to PostgreSQL table\n",
    "    load_data_to_postgres_docker(csv_path, table_name, user, password, host, database_name)\n",
    "\n",
    "# Test Student Data\n",
    "new_student_info = {\n",
    "    'school': 'GP',\n",
    "    'sex': 'M',\n",
    "    'age': 16,\n",
    "    'address': 'U',\n",
    "    'famsize': 'LE3',\n",
    "    'Pstatus': 'T',\n",
    "    'Medu': 4,\n",
    "    'Fedu': 3,\n",
    "    'Mjob': 'teacher',\n",
    "    'Fjob': 'services',\n",
    "    'reason': 'course',\n",
    "    'guardian': 'mother',\n",
    "    'traveltime': 3,\n",
    "    'studytime': 2,\n",
    "    'failures': 0,\n",
    "    'schoolsup': 'no',\n",
    "    'famsup': 'yes',\n",
    "    'paid': 'no',\n",
    "    'activities': 'yes',\n",
    "    'nursery': 'yes',\n",
    "    'higher': 'yes',\n",
    "    'internet': 'yes',\n",
    "    'romantic': 'no',\n",
    "    'famrel': 5,\n",
    "    'freetime': 4,\n",
    "    'goout': 3,\n",
    "    'Dalc': 1,\n",
    "    'Walc': 2,\n",
    "    'health': 1,\n",
    "    'absences': 2,\n",
    "    'G1': 15,\n",
    "    'G2': 14,\n",
    "    'G3': 15\n",
    "}\n",
    "\n",
    "# Call the add_new_student_and_load function\n",
    "add_new_student_and_load(new_student_info, csv_path, 'student_grades_table', 'student_grades', 'leonphoenix21', 'vtlt123@dck', '172.18.0.3')"
   ]
  },
  {
   "cell_type": "code",
   "execution_count": 11,
   "metadata": {},
   "outputs": [
    {
     "name": "stdout",
     "output_type": "stream",
     "text": [
      "Last row deleted successfully.\n"
     ]
    }
   ],
   "source": [
    "\n",
    "def delete_last_row(csv_path):\n",
    "    with open(csv_path, 'r', newline='', encoding='utf-8') as csvfile:\n",
    "        rows = list(csv.reader(csvfile, delimiter=';'))\n",
    "\n",
    "    # Check if there are any rows in the CSV\n",
    "    if len(rows) > 0:\n",
    "        # Remove the last row\n",
    "        rows.pop()\n",
    "\n",
    "        # Write the updated rows back to the CSV file\n",
    "        with open(csv_path, 'w', newline='', encoding='utf-8') as csvfile:\n",
    "            csv_writer = csv.writer(csvfile, delimiter=';')\n",
    "            csv_writer.writerows(rows)\n",
    "        print(\"Last row deleted successfully.\")\n",
    "        load_data_to_postgres_docker(csv_path, 'student_grades_table', 'leonphoenix21',\n",
    "                                      'vtlt123@dck', 'localhost', 'student_grades')\n",
    "    else:\n",
    "        print(\"No rows to delete.\")\n",
    "\n",
    "delete_last_row(csv_path)"
   ]
  }
 ],
 "metadata": {
  "kernelspec": {
   "display_name": "Python 3",
   "language": "python",
   "name": "python3"
  },
  "language_info": {
   "codemirror_mode": {
    "name": "ipython",
    "version": 3
   },
   "file_extension": ".py",
   "mimetype": "text/x-python",
   "name": "python",
   "nbconvert_exporter": "python",
   "pygments_lexer": "ipython3",
   "version": "3.10.12"
  }
 },
 "nbformat": 4,
 "nbformat_minor": 2
}
